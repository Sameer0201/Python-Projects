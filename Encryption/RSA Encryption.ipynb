{
 "cells": [
  {
   "cell_type": "markdown",
   "metadata": {},
   "source": [
    "# RSA Encryption"
   ]
  },
  {
   "cell_type": "markdown",
   "metadata": {},
   "source": [
    "This script is a RSA encrypter/decrypter. It a mathematical algorithm to encryption text. It used mathematical functions such as the greatest common divisor(GCD), a modular multiplicative inverse and a prime function. "
   ]
  },
  {
   "cell_type": "code",
   "execution_count": 39,
   "metadata": {},
   "outputs": [],
   "source": [
    "import random"
   ]
  },
  {
   "cell_type": "markdown",
   "metadata": {},
   "source": [
    "## Greatest Common Divisor\n",
    "\n",
    "The greatest common divisor (gcd) or Highest common factor (HCF) of two integers is the greatest (largest) number that divides both of the integers evenly. Euclid came up with the idea of GCDs.\n",
    "\n",
    "$$\n",
    "gcd(u,v) = \\left\\{\n",
    "        \\begin{array}{ll}\n",
    "            gcd(v,u\\ mod\\ v), & if v > 0 \\\\\n",
    "            u, & if v=0\n",
    "        \\end{array}\n",
    "    \\right.\n",
    "$$"
   ]
  },
  {
   "cell_type": "code",
   "execution_count": 40,
   "metadata": {},
   "outputs": [],
   "source": [
    "def gcd(a, b):\n",
    "    while b != 0:\n",
    "        a, b = b, a % b\n",
    "    return a"
   ]
  },
  {
   "cell_type": "markdown",
   "metadata": {},
   "source": [
    "## Modular Multiplicative Inverse\n",
    "\n",
    "In mathematics, a modular multiplicative inverse of an integer a is an integer x such that the product ax is congruent to 1 with respect to the modulus m. \n",
    "\n",
    "$$\n",
    "ax \\equiv 1 (mod\\ m)\n",
    "$$"
   ]
  },
  {
   "cell_type": "code",
   "execution_count": 41,
   "metadata": {},
   "outputs": [],
   "source": [
    "def multiplicative_inverse(a, m):\n",
    "    a = a % m;\n",
    "    for x in range(1, m) :\n",
    "        if ((a * x) % m == 1) :\n",
    "            return x\n",
    "    return 1"
   ]
  },
  {
   "cell_type": "markdown",
   "metadata": {},
   "source": [
    "## Prime Numbers\n",
    "\n",
    "A prime number (or a prime) is a natural number greater than 1 that cannot be formed by multiplying two smaller natural numbers. A natural number greater than 1 that is not prime is called a composite number."
   ]
  },
  {
   "cell_type": "code",
   "execution_count": 42,
   "metadata": {},
   "outputs": [],
   "source": [
    "def is_prime(num):\n",
    "    if num == 2:\n",
    "        return True\n",
    "    if num < 2 or num % 2 == 0:\n",
    "        return False\n",
    "    for n in range(3, int(num**0.5)+2, 2):\n",
    "        if num % n == 0:\n",
    "            return False\n",
    "    return True"
   ]
  },
  {
   "cell_type": "markdown",
   "metadata": {},
   "source": [
    "## Generating Public and Private Key\n",
    "\n",
    "There is a set of instructions to calculate your public and private key. \n",
    "\n",
    "1. Choose two different large random prime numbers p and q\n",
    "2. Calculate n = pq\n",
    "3. Calculate the totient: $\\varphi$(n) = (p-1)(q-1)\n",
    "4. Choose an integer e such that 1<e<$\\varphi$(n), and e is coprime to $\\varphi$(n). That is e and $\\varphi$(n) share no factors other than 1. gcd(e,$\\varphi$(n))=1.\n",
    "5. e is the public key.\n",
    "6. Compute d to satisfy the congruence relation de $\\equiv$ 1 (mod $\\varphi$(n))\n",
    "7. d is the private key. "
   ]
  },
  {
   "cell_type": "code",
   "execution_count": 43,
   "metadata": {},
   "outputs": [],
   "source": [
    "def generate_keypair(p, q):\n",
    "    if not (is_prime(p) and is_prime(q)):\n",
    "        raise ValueError('Both numbers must be prime.')\n",
    "    elif p == q:\n",
    "        raise ValueError('p and q cannot be equal')\n",
    "    #n = pq\n",
    "    n = p * q\n",
    "\n",
    "    #Phi is the totient of n\n",
    "    phi = (p-1) * (q-1)\n",
    "\n",
    "    #Choose an integer e such that e and phi(n) are coprime\n",
    "    e = random.randrange(1, phi)\n",
    "\n",
    "    #Use Euclid's Algorithm to verify that e and phi(n) are comprime\n",
    "    g = gcd(e, phi)\n",
    "    while g != 1:\n",
    "        e = random.randrange(1, phi)\n",
    "        g = gcd(e, phi)\n",
    "\n",
    "    #Use Extended Euclid's Algorithm to generate the private key\n",
    "    d = multiplicative_inverse(e, phi)\n",
    "    print(d)\n",
    "    #Return public and private keypair\n",
    "    #Public key is (e, n) and private key is (d, n)\n",
    "    return ((e, n), (d, n))"
   ]
  },
  {
   "cell_type": "code",
   "execution_count": 44,
   "metadata": {},
   "outputs": [],
   "source": [
    "def encrypt(pk, plaintext):\n",
    "    #Unpack the key into it's components\n",
    "    key, n = pk\n",
    "    #Convert each letter in the plaintext to numbers based on the character using a^b mod m\n",
    "    cipher = [pow(ord(char),key,n) for char in plaintext]\n",
    "    #Return the array of bytes\n",
    "    return cipher"
   ]
  },
  {
   "cell_type": "code",
   "execution_count": 45,
   "metadata": {},
   "outputs": [],
   "source": [
    "def decrypt(pk, ciphertext):\n",
    "    #Unpack the key into its components\n",
    "    key, n = pk\n",
    "    #Generate the plaintext based on the ciphertext and key using a^b mod m\n",
    "    plain = [chr(pow(char,key,n)) for char in ciphertext]\n",
    "    #Return the array of bytes as a string\n",
    "    return ''.join(plain)"
   ]
  },
  {
   "cell_type": "code",
   "execution_count": 52,
   "metadata": {
    "scrolled": false
   },
   "outputs": [
    {
     "name": "stdout",
     "output_type": "stream",
     "text": [
      "1. Generate public/private key.\n",
      "2. Encrypt a message.\n",
      "3. Decrypt a message.\n",
      "Choose the function you wish you generate.3\n",
      "Enter your private key: 323\n",
      "Enter product of primes: 391\n",
      "Enter a message to decrypt with your private key: 1451251416169131558276315348169116\n",
      "Your message is:\n",
      "Sameer is here\n"
     ]
    }
   ],
   "source": [
    "if __name__ == '__main__':\n",
    "    '''\n",
    "    Detect if the script is being run directly by the user\n",
    "    '''\n",
    "    print(\"1. Generate public/private key.\")\n",
    "    print(\"2. Encrypt a message.\")\n",
    "    print(\"3. Decrypt a message.\")\n",
    "    option = int(input(\"Choose the function you wish you generate.\"))\n",
    "    \n",
    "    if(option == 1):\n",
    "        p = int(input(\"Enter a prime number (17, 19, 23, etc): \"))\n",
    "        q = int(input(\"Enter another prime number (Not one you entered above): \"))\n",
    "        print (\"Generating your public/private keypairs now . . .\")\n",
    "        public, private = generate_keypair(p, q)\n",
    "        print(\"Your public key is \", public ,\" and your private key is \", private)\n",
    "    elif(option == 2):\n",
    "        p = int(input(\"Enter your public key: \"))\n",
    "        n = int(input(\"Enter product of primes: \"))\n",
    "        public = (p,n)\n",
    "        message = input(\"Enter a message to encrypt with your public key: \")\n",
    "        encrypted_msg = encrypt(public, message)\n",
    "        print (\"Your encrypted message is: \")\n",
    "        print (''.join(map(lambda x: str(x), encrypted_msg)))\n",
    "    elif(option == 3):\n",
    "        p = int(input(\"Enter your private key: \"))\n",
    "        n = int(input(\"Enter product of primes: \"))\n",
    "        private = (p,n)\n",
    "        message = input(\"Enter a message to decrypt with your private key: \")\n",
    "        print (\"Your message is:\")\n",
    "        print (decrypt(private, encrypted_msg))\n",
    "    else:\n",
    "        print(\"Wrong!\")"
   ]
  }
 ],
 "metadata": {
  "kernelspec": {
   "display_name": "Python 3",
   "language": "python",
   "name": "python3"
  },
  "language_info": {
   "codemirror_mode": {
    "name": "ipython",
    "version": 3
   },
   "file_extension": ".py",
   "mimetype": "text/x-python",
   "name": "python",
   "nbconvert_exporter": "python",
   "pygments_lexer": "ipython3",
   "version": "3.6.4"
  }
 },
 "nbformat": 4,
 "nbformat_minor": 2
}
