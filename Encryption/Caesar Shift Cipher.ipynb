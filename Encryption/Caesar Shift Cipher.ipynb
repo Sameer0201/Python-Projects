{
 "cells": [
  {
   "cell_type": "markdown",
   "metadata": {},
   "source": [
    "# Caesar Shift Cipher"
   ]
  },
  {
   "cell_type": "code",
   "execution_count": 14,
   "metadata": {},
   "outputs": [
    {
     "name": "stdout",
     "output_type": "stream",
     "text": [
      "Press e for encryption and d for decryption\n",
      "d\n",
      "Enter your input\n",
      "pxjbbo drmqx\n",
      "sameer gupta\n"
     ]
    }
   ],
   "source": [
    "print(\"Press e for encryption and d for decryption\");\n",
    "input1 = input().lower();\n",
    "if(input1 != \"e\" and input1 != \"d\"):\n",
    "    print(\"Wrong Input\")\n",
    "else:\n",
    "    print(\"Enter your input\")\n",
    "    input2 = input().lower()\n",
    "    output = \"\"\n",
    "    for x in (0,minute)\n",
    "    if(input1 == \"e\"):\n",
    "        for c in input2:\n",
    "            if(c == \" \"):\n",
    "                output += c;\n",
    "            else:\n",
    "                temp = ord(c);\n",
    "                temp -= 3;\n",
    "                if(temp < 97):\n",
    "                    temp += 26\n",
    "                output += chr(temp)\n",
    "    else:\n",
    "        for c in input2:\n",
    "            if(c == \" \"):\n",
    "                output += c;\n",
    "            else:\n",
    "                temp = ord(c);\n",
    "                temp += 3;\n",
    "                if(temp > 122):\n",
    "                    temp -= 26\n",
    "                output += chr(temp)    \n",
    "print(output);     "
   ]
  }
 ],
 "metadata": {
  "kernelspec": {
   "display_name": "Python 3",
   "language": "python",
   "name": "python3"
  },
  "language_info": {
   "codemirror_mode": {
    "name": "ipython",
    "version": 3
   },
   "file_extension": ".py",
   "mimetype": "text/x-python",
   "name": "python",
   "nbconvert_exporter": "python",
   "pygments_lexer": "ipython3",
   "version": "3.6.4"
  }
 },
 "nbformat": 4,
 "nbformat_minor": 2
}
